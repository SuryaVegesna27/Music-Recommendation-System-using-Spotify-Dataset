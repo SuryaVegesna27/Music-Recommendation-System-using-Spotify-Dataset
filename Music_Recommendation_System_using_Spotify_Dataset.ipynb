{
  "metadata": {
    "kernelspec": {
      "language": "python",
      "display_name": "Python 3",
      "name": "python3"
    },
    "language_info": {
      "pygments_lexer": "ipython3",
      "nbconvert_exporter": "python",
      "version": "3.6.4",
      "file_extension": ".py",
      "codemirror_mode": {
        "name": "ipython",
        "version": 3
      },
      "name": "python",
      "mimetype": "text/x-python"
    },
    "colab": {
      "name": "Music Recommendation System using Spotify Dataset",
      "provenance": []
    }
  },
  "nbformat_minor": 0,
  "nbformat": 4,
  "cells": [
    {
      "cell_type": "markdown",
      "source": [
        "# **Building Music Recommendation System using Spotify Dataset**\n",
        "\n",
        "\n",
        "\n",
        "Hello and welcome to my kernel. In this kernel, I have created Music Recommendation System using Spotify Dataset. To do this, I presented some of the visualization processes to understand data and done some EDA(Exploratory Data Analysis) so we can select features that are relevant to create a Recommendation System."
      ],
      "metadata": {
        "id": "ol_4kkCkEaHO"
      }
    },
    {
      "cell_type": "markdown",
      "source": [
        "# **Import Libraries**"
      ],
      "metadata": {
        "id": "F3UgLyk7EaHP"
      }
    },
    {
      "cell_type": "code",
      "source": [
        "import os\n",
        "import numpy as np\n",
        "import pandas as pd\n",
        "\n",
        "import seaborn as sns\n",
        "import plotly.express as px\n",
        "import matplotlib.pyplot as plt\n",
        "%matplotlib inline\n",
        "\n",
        "from sklearn.cluster import KMeans\n",
        "from sklearn.preprocessing import StandardScaler\n",
        "from sklearn.pipeline import Pipeline\n",
        "from sklearn.manifold import TSNE\n",
        "from sklearn.decomposition import PCA\n",
        "from sklearn.metrics import euclidean_distances\n",
        "from scipy.spatial.distance import cdist\n",
        "\n",
        "import warnings\n",
        "warnings.filterwarnings(\"ignore\")"
      ],
      "metadata": {
        "execution": {
          "iopub.status.busy": "2021-12-17T05:44:20.714397Z",
          "iopub.execute_input": "2021-12-17T05:44:20.71533Z",
          "iopub.status.idle": "2021-12-17T05:44:21.808185Z",
          "shell.execute_reply.started": "2021-12-17T05:44:20.715276Z",
          "shell.execute_reply": "2021-12-17T05:44:21.807394Z"
        },
        "trusted": true,
        "id": "QkCvzymdEaHP"
      },
      "execution_count": null,
      "outputs": []
    },
    {
      "cell_type": "markdown",
      "source": [
        "# **Read Data**"
      ],
      "metadata": {
        "id": "qiFYfrkHEaHP"
      }
    },
    {
      "cell_type": "code",
      "source": [
        "data = pd.read_csv(\"../input/spotify-dataset/data/data.csv\")\n",
        "genre_data = pd.read_csv('../input/spotify-dataset/data/data_by_genres.csv')\n",
        "year_data = pd.read_csv('../input/spotify-dataset/data/data_by_year.csv')"
      ],
      "metadata": {
        "execution": {
          "iopub.status.busy": "2021-12-17T05:44:21.809689Z",
          "iopub.execute_input": "2021-12-17T05:44:21.810083Z",
          "iopub.status.idle": "2021-12-17T05:44:22.522129Z",
          "shell.execute_reply.started": "2021-12-17T05:44:21.810053Z",
          "shell.execute_reply": "2021-12-17T05:44:22.521334Z"
        },
        "trusted": true,
        "id": "koS6z5LgEaHQ"
      },
      "execution_count": null,
      "outputs": []
    },
    {
      "cell_type": "code",
      "source": [
        "print(data.info())"
      ],
      "metadata": {
        "_kg_hide-output": true,
        "execution": {
          "iopub.status.busy": "2021-12-17T05:44:22.523285Z",
          "iopub.execute_input": "2021-12-17T05:44:22.523745Z",
          "iopub.status.idle": "2021-12-17T05:44:22.617801Z",
          "shell.execute_reply.started": "2021-12-17T05:44:22.523696Z",
          "shell.execute_reply": "2021-12-17T05:44:22.616916Z"
        },
        "trusted": true,
        "id": "2FoOODlgEaHQ"
      },
      "execution_count": null,
      "outputs": []
    },
    {
      "cell_type": "code",
      "source": [
        "print(genre_data.info())"
      ],
      "metadata": {
        "_kg_hide-output": true,
        "execution": {
          "iopub.status.busy": "2021-12-17T05:44:22.62063Z",
          "iopub.execute_input": "2021-12-17T05:44:22.621083Z",
          "iopub.status.idle": "2021-12-17T05:44:22.634669Z",
          "shell.execute_reply.started": "2021-12-17T05:44:22.621037Z",
          "shell.execute_reply": "2021-12-17T05:44:22.63377Z"
        },
        "trusted": true,
        "id": "eCfgb15QEaHQ"
      },
      "execution_count": null,
      "outputs": []
    },
    {
      "cell_type": "code",
      "source": [
        "print(year_data.info())"
      ],
      "metadata": {
        "_kg_hide-output": true,
        "execution": {
          "iopub.status.busy": "2021-12-17T05:44:22.636084Z",
          "iopub.execute_input": "2021-12-17T05:44:22.636733Z",
          "iopub.status.idle": "2021-12-17T05:44:22.647925Z",
          "shell.execute_reply.started": "2021-12-17T05:44:22.636686Z",
          "shell.execute_reply": "2021-12-17T05:44:22.646858Z"
        },
        "trusted": true,
        "id": "wVHP2ub1EaHR"
      },
      "execution_count": null,
      "outputs": []
    },
    {
      "cell_type": "markdown",
      "source": [
        "We are going to check for all the analysis with the target as **'popularity'**. Before going to do that let's check for the Feature Correlation by considering a few features and for that, I'm going to use the **yellowbrick** package. You can learn more about it from the [documentation](https://www.scikit-yb.org/en/latest/index.html)."
      ],
      "metadata": {
        "id": "zMpTVn5vEaHR"
      }
    },
    {
      "cell_type": "code",
      "source": [
        "from yellowbrick.target import FeatureCorrelation\n",
        "\n",
        "feature_names = ['acousticness', 'danceability', 'energy', 'instrumentalness',\n",
        "       'liveness', 'loudness', 'speechiness', 'tempo', 'valence','duration_ms','explicit','key','mode','year']\n",
        "\n",
        "X, y = data[feature_names], data['popularity']\n",
        "\n",
        "# Create a list of the feature names\n",
        "features = np.array(feature_names)\n",
        "\n",
        "# Instantiate the visualizer\n",
        "visualizer = FeatureCorrelation(labels=features)\n",
        "\n",
        "plt.rcParams['figure.figsize']=(20,20)\n",
        "visualizer.fit(X, y)     # Fit the data to the visualizer\n",
        "visualizer.show()"
      ],
      "metadata": {
        "_kg_hide-input": true,
        "execution": {
          "iopub.status.busy": "2021-12-17T05:44:22.649461Z",
          "iopub.execute_input": "2021-12-17T05:44:22.650055Z",
          "iopub.status.idle": "2021-12-17T05:44:22.923236Z",
          "shell.execute_reply.started": "2021-12-17T05:44:22.650012Z",
          "shell.execute_reply": "2021-12-17T05:44:22.922246Z"
        },
        "trusted": true,
        "id": "wVuY93nPEaHR"
      },
      "execution_count": null,
      "outputs": []
    },
    {
      "cell_type": "markdown",
      "source": [
        "# **Data Understanding by Visualization and EDA**"
      ],
      "metadata": {
        "id": "FcV1aJYuEaHR"
      }
    },
    {
      "cell_type": "markdown",
      "source": [
        "# **Music Over Time**\n",
        "\n",
        "Using the data grouped by year, we can understand how the overall sound of music has changed from 1921 to 2020."
      ],
      "metadata": {
        "id": "ZDzjlkbkEaHR"
      }
    },
    {
      "cell_type": "code",
      "source": [
        "def get_decade(year):\n",
        "    period_start = int(year/10) * 10\n",
        "    decade = '{}s'.format(period_start)\n",
        "    return decade\n",
        "\n",
        "data['decade'] = data['year'].apply(get_decade)\n",
        "\n",
        "sns.set(rc={'figure.figsize':(11 ,6)})\n",
        "sns.countplot(data['decade'])"
      ],
      "metadata": {
        "_kg_hide-input": true,
        "execution": {
          "iopub.status.busy": "2021-12-17T05:44:23.523636Z",
          "iopub.execute_input": "2021-12-17T05:44:23.524059Z",
          "iopub.status.idle": "2021-12-17T05:44:23.989474Z",
          "shell.execute_reply.started": "2021-12-17T05:44:23.524023Z",
          "shell.execute_reply": "2021-12-17T05:44:23.988566Z"
        },
        "trusted": true,
        "id": "Z_FfaKvhEaHR"
      },
      "execution_count": null,
      "outputs": []
    },
    {
      "cell_type": "code",
      "source": [
        "sound_features = ['acousticness', 'danceability', 'energy', 'instrumentalness', 'liveness', 'valence']\n",
        "fig = px.line(year_data, x='year', y=sound_features)\n",
        "fig.show()"
      ],
      "metadata": {
        "_kg_hide-input": true,
        "execution": {
          "iopub.status.busy": "2021-12-17T05:44:24.032665Z",
          "iopub.execute_input": "2021-12-17T05:44:24.033039Z",
          "iopub.status.idle": "2021-12-17T05:44:24.481812Z",
          "shell.execute_reply.started": "2021-12-17T05:44:24.033003Z",
          "shell.execute_reply": "2021-12-17T05:44:24.480785Z"
        },
        "trusted": true,
        "id": "Dsiq72xmEaHR"
      },
      "execution_count": null,
      "outputs": []
    },
    {
      "cell_type": "markdown",
      "source": [
        "# **Characteristics of Different Genres**\n",
        "\n",
        "This dataset contains the audio features for different songs along with the audio features for different genres. We can use this information to compare different genres and understand their unique differences in sound."
      ],
      "metadata": {
        "id": "dJBGwkV2EaHR"
      }
    },
    {
      "cell_type": "code",
      "source": [
        "top10_genres = genre_data.nlargest(10, 'popularity')\n",
        "\n",
        "fig = px.bar(top10_genres, x='genres', y=['valence', 'energy', 'danceability', 'acousticness'], barmode='group')\n",
        "fig.show()"
      ],
      "metadata": {
        "_kg_hide-input": true,
        "execution": {
          "iopub.status.busy": "2021-12-17T05:44:24.975629Z",
          "iopub.execute_input": "2021-12-17T05:44:24.976028Z",
          "iopub.status.idle": "2021-12-17T05:44:25.069728Z",
          "shell.execute_reply.started": "2021-12-17T05:44:24.975994Z",
          "shell.execute_reply": "2021-12-17T05:44:25.06874Z"
        },
        "trusted": true,
        "id": "esLI1k6PEaHS"
      },
      "execution_count": null,
      "outputs": []
    },
    {
      "cell_type": "markdown",
      "source": [
        "# **Clustering Genres with K-Means**\n",
        "\n",
        "Here, the simple K-means clustering algorithm is used to divide the genres in this dataset into ten clusters based on the numerical audio features of each genres."
      ],
      "metadata": {
        "id": "7tVNHRWIEaHS"
      }
    },
    {
      "cell_type": "code",
      "source": [
        "from sklearn.cluster import KMeans\n",
        "from sklearn.preprocessing import StandardScaler\n",
        "from sklearn.pipeline import Pipeline\n",
        "\n",
        "cluster_pipeline = Pipeline([('scaler', StandardScaler()), ('kmeans', KMeans(n_clusters=10, n_jobs=-1))])\n",
        "X = genre_data.select_dtypes(np.number)\n",
        "cluster_pipeline.fit(X)\n",
        "genre_data['cluster'] = cluster_pipeline.predict(X)"
      ],
      "metadata": {
        "execution": {
          "iopub.status.busy": "2021-12-17T05:44:26.212124Z",
          "iopub.execute_input": "2021-12-17T05:44:26.212698Z",
          "iopub.status.idle": "2021-12-17T05:44:26.518808Z",
          "shell.execute_reply.started": "2021-12-17T05:44:26.212632Z",
          "shell.execute_reply": "2021-12-17T05:44:26.517759Z"
        },
        "trusted": true,
        "id": "HJ9JY69DEaHS"
      },
      "execution_count": null,
      "outputs": []
    },
    {
      "cell_type": "code",
      "source": [
        "# Visualizing the Clusters with t-SNE\n",
        "\n",
        "from sklearn.manifold import TSNE\n",
        "\n",
        "tsne_pipeline = Pipeline([('scaler', StandardScaler()), ('tsne', TSNE(n_components=2, verbose=1))])\n",
        "genre_embedding = tsne_pipeline.fit_transform(X)\n",
        "projection = pd.DataFrame(columns=['x', 'y'], data=genre_embedding)\n",
        "projection['genres'] = genre_data['genres']\n",
        "projection['cluster'] = genre_data['cluster']\n",
        "\n",
        "fig = px.scatter(\n",
        "    projection, x='x', y='y', color='cluster', hover_data=['x', 'y', 'genres'])\n",
        "fig.show()"
      ],
      "metadata": {
        "_kg_hide-output": false,
        "execution": {
          "iopub.status.busy": "2021-12-17T05:44:27.518353Z",
          "iopub.execute_input": "2021-12-17T05:44:27.518738Z",
          "iopub.status.idle": "2021-12-17T05:44:43.188605Z",
          "shell.execute_reply.started": "2021-12-17T05:44:27.518702Z",
          "shell.execute_reply": "2021-12-17T05:44:43.187534Z"
        },
        "trusted": true,
        "id": "nvbZIBntEaHS"
      },
      "execution_count": null,
      "outputs": []
    },
    {
      "cell_type": "markdown",
      "source": [
        "# **Clustering Songs with K-Means**"
      ],
      "metadata": {
        "id": "BqJutGHgEaHS"
      }
    },
    {
      "cell_type": "code",
      "source": [
        "song_cluster_pipeline = Pipeline([('scaler', StandardScaler()),\n",
        "                                  ('kmeans', KMeans(n_clusters=20,\n",
        "                                   verbose=False, n_jobs=4))\n",
        "                                 ], verbose=False)\n",
        "\n",
        "X = data.select_dtypes(np.number)\n",
        "number_cols = list(X.columns)\n",
        "song_cluster_pipeline.fit(X)\n",
        "song_cluster_labels = song_cluster_pipeline.predict(X)\n",
        "data['cluster_label'] = song_cluster_labels"
      ],
      "metadata": {
        "_kg_hide-output": true,
        "execution": {
          "iopub.status.busy": "2021-12-17T05:44:43.190695Z",
          "iopub.execute_input": "2021-12-17T05:44:43.191246Z",
          "iopub.status.idle": "2021-12-17T05:44:55.203359Z",
          "shell.execute_reply.started": "2021-12-17T05:44:43.191203Z",
          "shell.execute_reply": "2021-12-17T05:44:55.202178Z"
        },
        "trusted": true,
        "id": "SFSkaaj9EaHS"
      },
      "execution_count": null,
      "outputs": []
    },
    {
      "cell_type": "code",
      "source": [
        "# Visualizing the Clusters with PCA\n",
        "\n",
        "from sklearn.decomposition import PCA\n",
        "\n",
        "pca_pipeline = Pipeline([('scaler', StandardScaler()), ('PCA', PCA(n_components=2))])\n",
        "song_embedding = pca_pipeline.fit_transform(X)\n",
        "projection = pd.DataFrame(columns=['x', 'y'], data=song_embedding)\n",
        "projection['title'] = data['name']\n",
        "projection['cluster'] = data['cluster_label']\n",
        "\n",
        "fig = px.scatter(\n",
        "    projection, x='x', y='y', color='cluster', hover_data=['x', 'y', 'title'])\n",
        "fig.show()"
      ],
      "metadata": {
        "_kg_hide-output": false,
        "execution": {
          "iopub.status.busy": "2021-12-17T05:44:55.204917Z",
          "iopub.execute_input": "2021-12-17T05:44:55.205249Z",
          "iopub.status.idle": "2021-12-17T05:45:01.491666Z",
          "shell.execute_reply.started": "2021-12-17T05:44:55.205217Z",
          "shell.execute_reply": "2021-12-17T05:45:01.490056Z"
        },
        "trusted": true,
        "id": "hYGDrrFCEaHS"
      },
      "execution_count": null,
      "outputs": []
    },
    {
      "cell_type": "markdown",
      "source": [
        "# **Build Recommender System**\n",
        "\n",
        "* Based on the analysis and visualizations, it’s clear that similar genres tend to have data points that are located close to each other while similar types of songs are also clustered together.\n",
        "* This observation makes perfect sense. Similar genres will sound similar and will come from similar time periods while the same can be said for songs within those genres. We can use this idea to build a recommendation system by taking the data points of the songs a user has listened to and recommending songs corresponding to nearby data points.\n",
        "* [Spotipy](https://spotipy.readthedocs.io/en/2.16.1/) is a Python client for the Spotify Web API that makes it easy for developers to fetch data and query Spotify’s catalog for songs. You have to install using `pip install spotipy`\n",
        "* After installing Spotipy, you will need to create an app on the [Spotify Developer’s page](https://developer.spotify.com/) and save your Client ID and secret key."
      ],
      "metadata": {
        "id": "JaZChl2wEaHS"
      }
    },
    {
      "cell_type": "code",
      "source": [
        "!pip install spotipy"
      ],
      "metadata": {
        "trusted": true,
        "id": "PyyrISxLEaHS"
      },
      "execution_count": null,
      "outputs": []
    },
    {
      "cell_type": "code",
      "source": [
        "import spotipy\n",
        "from spotipy.oauth2 import SpotifyClientCredentials\n",
        "from collections import defaultdict\n",
        "\n",
        "sp = spotipy.Spotify(auth_manager=SpotifyClientCredentials(client_id=os.environ[\"SPOTIFY_CLIENT_ID\"],\n",
        "                                                           client_secret=os.environ[\"SPOTIFY_CLIENT_SECRET\"]))\n",
        "\n",
        "def find_song(name, year):\n",
        "    song_data = defaultdict()\n",
        "    results = sp.search(q= 'track: {} year: {}'.format(name,year), limit=1)\n",
        "    if results['tracks']['items'] == []:\n",
        "        return None\n",
        "\n",
        "    results = results['tracks']['items'][0]\n",
        "    track_id = results['id']\n",
        "    audio_features = sp.audio_features(track_id)[0]\n",
        "\n",
        "    song_data['name'] = [name]\n",
        "    song_data['year'] = [year]\n",
        "    song_data['explicit'] = [int(results['explicit'])]\n",
        "    song_data['duration_ms'] = [results['duration_ms']]\n",
        "    song_data['popularity'] = [results['popularity']]\n",
        "\n",
        "    for key, value in audio_features.items():\n",
        "        song_data[key] = value\n",
        "\n",
        "    return pd.DataFrame(song_data)"
      ],
      "metadata": {
        "trusted": true,
        "id": "apnA1TsOEaHS"
      },
      "execution_count": null,
      "outputs": []
    },
    {
      "cell_type": "code",
      "source": [
        "from collections import defaultdict\n",
        "from sklearn.metrics import euclidean_distances\n",
        "from scipy.spatial.distance import cdist\n",
        "import difflib\n",
        "\n",
        "number_cols = ['valence', 'year', 'acousticness', 'danceability', 'duration_ms', 'energy', 'explicit',\n",
        " 'instrumentalness', 'key', 'liveness', 'loudness', 'mode', 'popularity', 'speechiness', 'tempo']\n",
        "\n",
        "\n",
        "def get_song_data(song, spotify_data):\n",
        "\n",
        "    try:\n",
        "        song_data = spotify_data[(spotify_data['name'] == song['name'])\n",
        "                                & (spotify_data['year'] == song['year'])].iloc[0]\n",
        "        return song_data\n",
        "\n",
        "    except IndexError:\n",
        "        return find_song(song['name'], song['year'])\n",
        "\n",
        "\n",
        "def get_mean_vector(song_list, spotify_data):\n",
        "\n",
        "    song_vectors = []\n",
        "\n",
        "    for song in song_list:\n",
        "        song_data = get_song_data(song, spotify_data)\n",
        "        if song_data is None:\n",
        "            print('Warning: {} does not exist in Spotify or in database'.format(song['name']))\n",
        "            continue\n",
        "        song_vector = song_data[number_cols].values\n",
        "        song_vectors.append(song_vector)\n",
        "\n",
        "    song_matrix = np.array(list(song_vectors))\n",
        "    return np.mean(song_matrix, axis=0)\n",
        "\n",
        "\n",
        "def flatten_dict_list(dict_list):\n",
        "\n",
        "    flattened_dict = defaultdict()\n",
        "    for key in dict_list[0].keys():\n",
        "        flattened_dict[key] = []\n",
        "\n",
        "    for dictionary in dict_list:\n",
        "        for key, value in dictionary.items():\n",
        "            flattened_dict[key].append(value)\n",
        "\n",
        "    return flattened_dict\n",
        "\n",
        "\n",
        "def recommend_songs( song_list, spotify_data, n_songs=10):\n",
        "\n",
        "    metadata_cols = ['name', 'year', 'artists']\n",
        "    song_dict = flatten_dict_list(song_list)\n",
        "\n",
        "    song_center = get_mean_vector(song_list, spotify_data)\n",
        "    scaler = song_cluster_pipeline.steps[0][1]\n",
        "    scaled_data = scaler.transform(spotify_data[number_cols])\n",
        "    scaled_song_center = scaler.transform(song_center.reshape(1, -1))\n",
        "    distances = cdist(scaled_song_center, scaled_data, 'cosine')\n",
        "    index = list(np.argsort(distances)[:, :n_songs][0])\n",
        "\n",
        "    rec_songs = spotify_data.iloc[index]\n",
        "    rec_songs = rec_songs[~rec_songs['name'].isin(song_dict['name'])]\n",
        "    return rec_songs[metadata_cols].to_dict(orient='records')"
      ],
      "metadata": {
        "trusted": true,
        "id": "96QcFEmNEaHS"
      },
      "execution_count": null,
      "outputs": []
    },
    {
      "cell_type": "code",
      "source": [
        "recommend_songs([{'name': 'Come As You Are', 'year':1991},\n",
        "                {'name': 'Smells Like Teen Spirit', 'year': 1991},\n",
        "                {'name': 'Lithium', 'year': 1992},\n",
        "                {'name': 'All Apologies', 'year': 1993},\n",
        "                {'name': 'Stay Away', 'year': 1993}],  data)"
      ],
      "metadata": {
        "trusted": true,
        "id": "idSF-gZeEaHS"
      },
      "execution_count": null,
      "outputs": []
    },
    {
      "cell_type": "markdown",
      "source": [
        "* This last cell will gives you a recommendation list of songs like this,\n",
        "\n",
        "\n",
        "```\n",
        "[{'name': 'Life is a Highway - From \"Cars\"',\n",
        "  'year': 2009,\n",
        "  'artists': \"['Rascal Flatts']\"},\n",
        " {'name': 'Of Wolf And Man', 'year': 1991, 'artists': \"['Metallica']\"},\n",
        " {'name': 'Somebody Like You', 'year': 2002, 'artists': \"['Keith Urban']\"},\n",
        " {'name': 'Kayleigh', 'year': 1992, 'artists': \"['Marillion']\"},\n",
        " {'name': 'Little Secrets', 'year': 2009, 'artists': \"['Passion Pit']\"},\n",
        " {'name': 'No Excuses', 'year': 1994, 'artists': \"['Alice In Chains']\"},\n",
        " {'name': 'Corazón Mágico', 'year': 1995, 'artists': \"['Los Fugitivos']\"},\n",
        " {'name': 'If Today Was Your Last Day',\n",
        "  'year': 2008,\n",
        "  'artists': \"['Nickelback']\"},\n",
        " {'name': \"Let's Get Rocked\", 'year': 1992, 'artists': \"['Def Leppard']\"},\n",
        " {'name': \"Breakfast At Tiffany's\",\n",
        "  'year': 1995,\n",
        "  'artists': \"['Deep Blue Something']\"}]\n",
        "```\n",
        "\n",
        "\n",
        "\n",
        "* You can change the given songs list as per your choice."
      ],
      "metadata": {
        "id": "LD_NAqw3EaHS"
      }
    },
    {
      "cell_type": "code",
      "source": [],
      "metadata": {
        "id": "TxFZ0X4-EaHS"
      },
      "execution_count": null,
      "outputs": []
    }
  ]
}